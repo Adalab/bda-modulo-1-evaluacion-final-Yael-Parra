{
 "cells": [
  {
   "cell_type": "markdown",
   "metadata": {},
   "source": [
    "# E-commerce\n",
    "_______________________"
   ]
  },
  {
   "cell_type": "code",
   "execution_count": 19,
   "metadata": {},
   "outputs": [
    {
     "data": {
      "text/plain": [
       "{'name': 'cintia', 'email': 'cintia@gmail.com'}"
      ]
     },
     "execution_count": 19,
     "metadata": {},
     "output_type": "execute_result"
    }
   ],
   "source": [
    "apparel = {\"name\": \"maillot\", \"price\": 40,\"quantity\":10},\n",
    "{\"name\":\"top\",\"price\":20,\"quantity\":10},\n",
    "{\"name\":\"short\",\"price\":20,\"quantity\":10},\n",
    "{\"name\":\"maillot competencia\",\"price\":50,\"quantity\":5} \n",
    "\n",
    "accessories = {\"name\":\"muñequeras elasticas\",\"price\":50,\"quantity\":3},\n",
    "{\"name\":\"muñequeras ajustables\",\"price\":50,\"quantity\":3},\n",
    "{\"name\":\"muñequeras ultra resistentes\",\"price\":50,\"quantity\":3},\n",
    "{\"name\":\"mochila\",\"price\":30,\"quantity\":5},\n",
    "{\"name\":\"termo\",\"price\":10,\"quantity\":10}\n",
    "\n",
    "footwear = {\"name\":\"zapatillas completas\",\"price\":35,\"quantity\":10},\n",
    "{\"name\":\"media zapatilla\",\"price\":35,\"quantity\":3}\n",
    "\n",
    "\n",
    "\n",
    "\n",
    "clients = {\"name\":\"maria\",\"email\":\"maria@gmail.com\"},\n",
    "{\"name\":\"marcos\",\"email\":\"marcos@gmail.com\"}\n",
    "{\"name\":\"cintia\",\"email\":\"cintia@gmail.com\"}"
   ]
  },
  {
   "cell_type": "code",
   "execution_count": 22,
   "metadata": {},
   "outputs": [
    {
     "ename": "IndentationError",
     "evalue": "unexpected indent (567054026.py, line 20)",
     "output_type": "error",
     "traceback": [
      "\u001b[1;36m  Cell \u001b[1;32mIn[22], line 20\u001b[1;36m\u001b[0m\n\u001b[1;33m    def __init__(self,stock, client, sales, client_purchase):\u001b[0m\n\u001b[1;37m    ^\u001b[0m\n\u001b[1;31mIndentationError\u001b[0m\u001b[1;31m:\u001b[0m unexpected indent\n"
     ]
    }
   ],
   "source": [
    "import re #importamos ya que se usará más tarde\n",
    "\n",
    "class Ecommerce:\n",
    "  \n",
    "#Aquí están nuestras listas  y listas vacías que se irán rellenando y actualizando.\n",
    "\n",
    "    stock = apparel + accessories + footwear\n",
    "\n",
    "    bbdd_client = [clients]\n",
    "\n",
    "    new_client = []\n",
    "\n",
    "    client_purchase = []\n",
    "\n",
    "    total_sales = 0 #debe de ser float\n",
    "\n",
    "\n",
    "#Clase donde estarán almacenadas nuestras funciones\n",
    "\n",
    "\n",
    "#Estas son nuestros pilares de nuestra tienda en donde estarán almacenadas las funciones, según área\n",
    "    def __init__(self,stock, client):\n",
    "        self.stock = stock\n",
    "        self.client = client\n",
    "        self.sales = 0\n",
    "        self.client_purchase = 0\n",
    "\n",
    "#Aquí están las funciones con respecto al inventario\n",
    "    def stock_view(self,stock):\n",
    "        for iview in stock:\n",
    "            print(f\"Tu inventario es: {stock}\")\n",
    "            \n",
    "            \n",
    "    def stock_search (self, name):\n",
    "        \n",
    "    \n",
    "    def stock_add (self, name, quantity): #aqui se añaden productos no existentes\n",
    "        for iproduct in self.stock:\n",
    "            if iproduct[\"name\"] == \"name\":\n",
    "                print(f\"El {iproduct} ya forma parte de tu inventario\")\n",
    "                return iproduct\n",
    "            \n",
    "        new_product = {\"name\":name,\n",
    "                       \"price\": float(input(f\"Ingresa el precio del artículo {name}:\")),\n",
    "                       \"quantity\":int(input(f\"Introduce la cantidad a añadir para el artículo {name}:\"))}\n",
    "        \n",
    "        self.stock.append(new_product)\n",
    "        print(f\"El artículo {name}, se ha añadido correctamente al inventario\")\n",
    "        print(f\"El inventario actualizado es: {self.stock}\")\n",
    "        return new_product\n",
    "\n",
    "    def stock_removal (self):\n",
    "         aqui se tiene que ir removiendo las unidades que se vayan vendiendo es decir, que vayan apareciendo en la lista de client_purchase\n",
    "\n",
    "    def stock_update (self):\n",
    "         aqui se debe definir que si removal, entonces haga update en la lista de stock para que siempre se vea cuanto stock tenemos y que lance un print de, el stock se ha actualizado de la siguiente manera: y que ponga las nuevas cantidades y de que cosa.\n",
    "\n",
    "# Aquí están las funciones con respecto a los clientes\n",
    "\n",
    "    def client_view (self):\n",
    "         aqui se visualizara el perfil del cliente con todos sus datos lo que incluye las compras que ha hecho, dentro de eso, el nombre del producto, la cantidad y los precios de cada uno así como un sumatorio de cantidda y precio por separado\n",
    "    \n",
    "    def client_add (self):\n",
    "        if client_account_existing == \"no\":\n",
    "            new_client.append(\"new.client1\")\n",
    "        else:\n",
    "\n",
    "    \n",
    "    def client_update (self):\n",
    "         si hay un cliente que no estaba de base, se añade uno, se hace la compra sobre ese y después se le cambia el nombre genérico, el nombre genérico se guarda en la lista new_client y después cuando se le cambia el nombre el definitivo, se añade a la lista de bbdd_client\n",
    "        \n",
    "#Aquí están las funciones relacionadas a las compras del cliente\n",
    "\n",
    "    def purchase_add_cart (self):\n",
    "        shopping = True\n",
    "        while shopping:\n",
    "            client_account_existing = input(\"Tienes una cuenta? si/no\")\n",
    "            if client_account_existing == \"si\":\n",
    "                client_account = input(\"Escribe tu correo electrónico: \"):\n",
    "                if client_account in bbdd_client:\n",
    "                    continuar comprando\n",
    "                else: \n",
    "                    print(\"Tu usuario no existe, prueba de nuevo o\")\n",
    "            elif client_account_existing == \"no\":\n",
    "                        new_client.__add__(\"new.client1\")\n",
    "\n",
    "            else:\n",
    "                print(\"Client not existing\")\n",
    "                \n",
    "                \n",
    "\n",
    "    def purchase_process_payment (self):\n",
    "\n",
    "    def accept_payment_automatic_by_card (self):\n",
    "\n",
    "    def add_purchase_list (self):\n",
    "\n",
    "    def update_purchase_if_client_in_bbdd (sef):\n",
    "\n",
    "    def update_client_new_to_bbdd (self):\n",
    "    \n",
    "    def update_bbdd_client (self):\n",
    "         \n",
    "    def update_purchase_list (self):\n",
    "         \n",
    "#Aquí están las funciones de ventas\n",
    "    def sales_add (self):\n",
    "        añadir las compras de cliente en lista sales self\n",
    "    def sales_update (self):\n",
    "    \n",
    "    def sales_total (self):\n",
    "         calculo del todal precio de cantidad ventas\n"
   ]
  },
  {
   "cell_type": "code",
   "execution_count": 48,
   "metadata": {},
   "outputs": [],
   "source": [
    "import re #importamos ya que se usará más tarde\n",
    "\n",
    "class Ecommerce:\n",
    "\n",
    "  \n",
    "#Aquí están nuestras listas  y listas vacías que se irán rellenando y actualizando.\n",
    "\n",
    "    stock = apparel + accessories + footwear\n",
    "\n",
    "    bbdd_client = [clients]\n",
    "\n",
    "    new_client = []\n",
    "\n",
    "    client_purchase = []\n",
    "\n",
    "    total_sales = 0 #debe de ser float\n",
    "\n",
    "\n",
    "#Clase donde estarán almacenadas nuestras funciones\n",
    "\n",
    "\n",
    "#Estas son nuestros pilares de nuestra tienda en donde estarán almacenadas las funciones, según área\n",
    "    def __init__(self,stock, client):\n",
    "        self.stock = stock\n",
    "        self.client = client\n",
    "        self.sales = 0\n",
    "        self.client_purchase = 0\n",
    "\n",
    "#Aquí están las funciones con respecto al inventario\n",
    "    def stock_view(self,stock):\n",
    "        for iproduct in self.stock:\n",
    "            print(f\"Tu inventario es: Producto: {iproduct[\"name\"]}, Precio: {iproduct[\"price\"]},Cantidad: {iproduct[\"quantity\"]}\")\n",
    "       "
   ]
  },
  {
   "cell_type": "code",
   "execution_count": 51,
   "metadata": {},
   "outputs": [
    {
     "data": {
      "text/plain": [
       "<bound method Ecommerce.stock_view of <__main__.Ecommerce object at 0x00000247DF56F950>>"
      ]
     },
     "execution_count": 51,
     "metadata": {},
     "output_type": "execute_result"
    }
   ],
   "source": [
    "ecomercio = Ecommerce(stock,bbdd_client)\n",
    "\n",
    "ecomercio.stock_view"
   ]
  }
 ],
 "metadata": {
  "kernelspec": {
   "display_name": "base",
   "language": "python",
   "name": "python3"
  },
  "language_info": {
   "codemirror_mode": {
    "name": "ipython",
    "version": 3
   },
   "file_extension": ".py",
   "mimetype": "text/x-python",
   "name": "python",
   "nbconvert_exporter": "python",
   "pygments_lexer": "ipython3",
   "version": "3.12.4"
  }
 },
 "nbformat": 4,
 "nbformat_minor": 2
}
